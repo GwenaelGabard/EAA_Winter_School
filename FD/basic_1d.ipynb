{
 "cells": [
  {
   "cell_type": "markdown",
   "metadata": {},
   "source": [
    "# EAA Winter School in Computational Acoustics 2018\n",
    "\n",
    "## Finite-difference tutorial\n",
    "\n",
    "### Preamble\n",
    "\n",
    "We begin by loading a number of standard modules such as `numpy` and `matplotlib`. We also adjust some default parameters of figures."
   ]
  },
  {
   "cell_type": "code",
   "execution_count": null,
   "metadata": {},
   "outputs": [],
   "source": [
    "import numpy as np\n",
    "from numpy import exp, sqrt\n",
    "%matplotlib notebook\n",
    "import matplotlib as mpl\n",
    "import matplotlib.pyplot as plt\n",
    "import matplotlib.animation\n",
    "mpl.rc('lines', linewidth=2)\n",
    "mpl.rc('font', size=14)\n",
    "mpl.rc('axes', linewidth=1.5, labelsize=14)\n",
    "mpl.rc('legend', fontsize=14)"
   ]
  },
  {
   "cell_type": "markdown",
   "metadata": {},
   "source": [
    "### Definition of the problem\n",
    "\n",
    "We consider the problem of the transport equation (also known as the one-way wave equation)\n",
    "$$\n",
    "\\frac{\\partial f}{\\partial t}\n",
    "+ a \\frac{\\partial f}{\\partial x}\n",
    "= 0\n",
    "\\;,\n",
    "$$\n",
    "where $f(x,t)$ is the solution of the problem and $a$ is the constant convection veclocity.\n",
    "This equation is solved on the domain $0<x<L$ between the initial time $t=T_\\mathrm{min}$ and the final time $t=T_\\mathrm{max}$.\n",
    "\n",
    "The initial condition is of the form:\n",
    "$$\n",
    "f(x,t=0) = \\frac{x-x_0}{w}\\exp\\left[ -\\frac{(x-x_0)^2}{2w^2} \\right]\n",
    "\\;,\n",
    "$$\n",
    "where $x_0$ is the initial position of the waveform and $w$ is the width of the waveform.\n",
    "\n",
    "We use periodic boundary conditions between the two end points of the computational domain. In other word: $f(x=0,t)=f(x=L,t)$.\n",
    "\n",
    "We define the physical parameters introduced so far:"
   ]
  },
  {
   "cell_type": "code",
   "execution_count": null,
   "metadata": {},
   "outputs": [],
   "source": [
    "a = 1  # Convection velocity\n",
    "w = 1  # Width of the waveform\n",
    "L = 20  # Length of the domain\n",
    "x0 = L/2 # Initial position of the waveform\n",
    "Tmin = 0  # Initial time\n",
    "Tmax = 40  # Final time"
   ]
  },
  {
   "cell_type": "markdown",
   "metadata": {},
   "source": [
    "We also define a function implementing the exact solution to this problem:"
   ]
  },
  {
   "cell_type": "code",
   "execution_count": null,
   "metadata": {},
   "outputs": [],
   "source": [
    "def f_exact(x, t):\n",
    "    s = np.mod(x-t, L)-x0\n",
    "    return(s/w*np.exp(-s**2/w**2/2))"
   ]
  },
  {
   "cell_type": "markdown",
   "metadata": {},
   "source": [
    "### Numerical schemes\n",
    "\n",
    "We use the standard 7-point, centered finite-difference scheme for the spatial derivative. The spatial derivative is approximated by the following expression\n",
    "$$\n",
    "f'(x) \\simeq \\frac{1}{\\Delta x} \\sum_{n=-3}^{+3} a_n f(x+n\\Delta x)\n",
    "\\;.\n",
    "$$\n",
    "The coefficients are:\n",
    "$$\n",
    "a_{-3} = -\\frac{1}{60}\n",
    "\\;,\\quad\n",
    "a_{-2} = \\frac{9}{60}\n",
    "\\;,\\quad\n",
    "a_{-1} = -\\frac{45}{60}\n",
    "\\;,\\quad\n",
    "a_{0} = 0\n",
    "\\;,\\quad\n",
    "a_{+1} = \\frac{45}{60}\n",
    "\\;,\\quad\n",
    "a_{+2} = -\\frac{9}{60}\n",
    "\\;,\\quad\n",
    "a_{+3} = \\frac{1}{60}\n",
    "\\;.\n",
    "$$\n",
    "This is define as follows:"
   ]
  },
  {
   "cell_type": "code",
   "execution_count": null,
   "metadata": {},
   "outputs": [],
   "source": [
    "FD7 = np.array([-1., 9., -45., 0., 45., -9., 1.])/60"
   ]
  },
  {
   "cell_type": "markdown",
   "metadata": {},
   "source": [
    "For the time integration we use the standard 4-stage Runge-Kutta scheme. Its coefficients are defined as follows:"
   ]
  },
  {
   "cell_type": "code",
   "execution_count": null,
   "metadata": {},
   "outputs": [],
   "source": [
    "RK4 = np.array([0.25, 1./3., 0.5, 1.])"
   ]
  },
  {
   "cell_type": "markdown",
   "metadata": {},
   "source": [
    "### Grid\n",
    "\n",
    "We use a uniform grid with $N$ points:"
   ]
  },
  {
   "cell_type": "code",
   "execution_count": null,
   "metadata": {},
   "outputs": [],
   "source": [
    "N = 50"
   ]
  },
  {
   "cell_type": "markdown",
   "metadata": {},
   "source": [
    "We define the grid points $x_n$ and the grid spacing $\\mathrm{d}x$:"
   ]
  },
  {
   "cell_type": "code",
   "execution_count": null,
   "metadata": {},
   "outputs": [],
   "source": [
    "xn = np.linspace(0, L, N)\n",
    "dx = xn[1] - xn[0]"
   ]
  },
  {
   "cell_type": "markdown",
   "metadata": {},
   "source": [
    "We have to extend the grid to include additional points for the periodic boundary conditions."
   ]
  },
  {
   "cell_type": "code",
   "execution_count": null,
   "metadata": {},
   "outputs": [],
   "source": [
    "xn = np.linspace(-3*dx, L+2*dx, N+5)"
   ]
  },
  {
   "cell_type": "markdown",
   "metadata": {},
   "source": [
    "### Time step\n",
    "\n",
    "The time step is defined through the CFL number $a\\Delta t/\\Delta x$"
   ]
  },
  {
   "cell_type": "code",
   "execution_count": null,
   "metadata": {},
   "outputs": [],
   "source": [
    "CFL = 1.0"
   ]
  },
  {
   "cell_type": "markdown",
   "metadata": {},
   "source": [
    "We calculate the time step from this value of the CFL number.\n",
    "We can then calculate the number of time steps $N_t$ to reach $t=T_{max}$."
   ]
  },
  {
   "cell_type": "code",
   "execution_count": null,
   "metadata": {},
   "outputs": [],
   "source": [
    "dt = dx*CFL/a\n",
    "Nt = int(np.ceil((Tmax-Tmin)/dt)+1)\n",
    "tn = np.linspace(Tmin, Tmax, Nt)\n",
    "dt = tn[1] - tn[0]"
   ]
  },
  {
   "cell_type": "markdown",
   "metadata": {},
   "source": [
    "### Simulation\n",
    "\n",
    "We can now perform the numerical simulation of the solution.\n",
    "\n",
    "We define a vector containing the initial condition:"
   ]
  },
  {
   "cell_type": "code",
   "execution_count": null,
   "metadata": {},
   "outputs": [],
   "source": [
    "f0 = np.transpose(f_exact(xn, Tmin)).reshape(len(xn),)"
   ]
  },
  {
   "cell_type": "markdown",
   "metadata": {},
   "source": [
    "We can then perform the time integration"
   ]
  },
  {
   "cell_type": "code",
   "execution_count": null,
   "metadata": {},
   "outputs": [],
   "source": [
    "f = f0.copy()\n",
    "t = Tmin\n",
    "\n",
    "F = np.zeros((Nt, len(f)))\n",
    "T = np.zeros((Nt, ))\n",
    "\n",
    "# Loop over the time step\n",
    "for step in range(Nt):\n",
    "    # Store the current solution and time step\n",
    "    F[step, :] = f\n",
    "    T[step] = t\n",
    "    fn = f.copy()\n",
    "    for stage in range(len(RK4)):\n",
    "        # Calculate the spatial derivative of the solution\n",
    "        dfdx = -np.convolve(f, FD7, 'same')/dx\n",
    "        # Calculate the time derivative of the solution\n",
    "        dfdt = -a*dfdx\n",
    "        # Update the solution using the Runge-Kutta time marching scheme\n",
    "        f = fn + RK4[stage]*dt*dfdt\n",
    "        # Implement the periodic boundary condition\n",
    "        f[:3] = f[-6:-3].copy()\n",
    "        f[-3:] = f[3:6].copy()\n",
    "    t += dt"
   ]
  },
  {
   "cell_type": "markdown",
   "metadata": {},
   "source": [
    "### Numerical error\n",
    "\n",
    "We can calculate a relative error between the numerical solution and the exact solution. For this we calculate the difference between the two solutions at each grid points at the last time step:"
   ]
  },
  {
   "cell_type": "code",
   "execution_count": null,
   "metadata": {},
   "outputs": [],
   "source": [
    "df = F[-1,:] - f_exact(xn, T[-1])\n",
    "relative_error = np.sqrt(np.sum(df**2)/np.sum(f_exact(xn, T[-1])**2))"
   ]
  },
  {
   "cell_type": "markdown",
   "metadata": {},
   "source": [
    "We can output the relative error in percent:"
   ]
  },
  {
   "cell_type": "code",
   "execution_count": null,
   "metadata": {},
   "outputs": [],
   "source": [
    "print(relative_error*100)"
   ]
  },
  {
   "cell_type": "markdown",
   "metadata": {},
   "source": [
    "### Visualisation\n",
    "\n",
    "We can generate an animation of the solution as follows:"
   ]
  },
  {
   "cell_type": "code",
   "execution_count": null,
   "metadata": {},
   "outputs": [],
   "source": [
    "fig = plt.figure(figsize=(8,6))\n",
    "ax = plt.gca()\n",
    "l, = ax.plot([0,L],[-0.7,0.7], '-x')\n",
    "l2, = ax.plot([0,L],[-0.7,0.7], 'r-')\n",
    "plt.xlim(0, L)\n",
    "\n",
    "xx = np.linspace(0, L, 1000)\n",
    "\n",
    "def animate(i):\n",
    "    l.set_data(xn, F[i,:])\n",
    "    l2.set_data(xx, f_exact(xx, T[i]))\n",
    "    \n",
    "\n",
    "ani = matplotlib.animation.FuncAnimation(fig, animate, frames=Nt)"
   ]
  },
  {
   "cell_type": "markdown",
   "metadata": {},
   "source": [
    "### Question 1: Application of the spatial derivative\n",
    "\n",
    "**a.** Consider the function $f(x)=\\sin(x)$. Calculate the exact value of $f'$ at $x=1$.\n",
    "\n",
    "**b.** Use the finite difference relation with the 7-point stencil `FD7` to estimate this derivative using $\\Delta x=0.01$. Compare with the exact value."
   ]
  },
  {
   "cell_type": "markdown",
   "metadata": {},
   "source": [
    "### Question 2: Order of convergence\n",
    "\n",
    "**a.** What is the order of the derivative scheme defined by the coefficients in `FD5`?\n",
    "\n",
    "**b.** What is the order of the integration scheme defined by the coefficients in `RK2`?\n",
    "\n",
    "**c.** Multiply the number of points $N$ by 2, and then by 4, and note the relative error in each case. Can you estimate the rate of convergence of the numerical model?\n",
    "\n",
    "**d.** With $N=50$, divide the CFL number by 2, and then by 4, and note the relative error in each case. Is the numerical error dominated by the spatial resolution or the temporal resolution?"
   ]
  },
  {
   "cell_type": "markdown",
   "metadata": {},
   "source": [
    "### Question 3: Stability\n",
    "\n",
    "**a.** Using $N=100$, run the simulation with a CFL number of 1.0, 1.8 and 1.9. For which of these values is the solution stable? For which of these values is the solution accurate?"
   ]
  },
  {
   "cell_type": "markdown",
   "metadata": {},
   "source": [
    "### Question 4: An improved derivative scheme\n",
    "\n",
    "**a.** Instead of the coefficients `FD7` defined above use the following optimized DRP scheme (the coefficients are taken from the book *Computational aero-acoustics* by C.K.W. Tam)"
   ]
  },
  {
   "cell_type": "code",
   "execution_count": null,
   "metadata": {},
   "outputs": [],
   "source": [
    "FD7 = np.array([-0.0208431427, 0.1667059044, -0.770882380, 0, 0.770882380, -0.1667059044, 0.0208431427])"
   ]
  },
  {
   "cell_type": "markdown",
   "metadata": {},
   "source": [
    "**b.** Compare the accuracy of this scheme with the standard scheme."
   ]
  },
  {
   "cell_type": "markdown",
   "metadata": {},
   "source": [
    "### Question 5: Filtering\n",
    "\n",
    "We would like to add a selective filter applied to the solution at each time step. We use a 7-point filter with the following coefficients:"
   ]
  },
  {
   "cell_type": "code",
   "execution_count": null,
   "metadata": {},
   "outputs": [],
   "source": [
    "SF7 = np.array([-0.0219899680, 0.1043103128, -0.2280100319, +0.2913793743, -0.2280100319, 0.1043103128, -0.0219899680])"
   ]
  },
  {
   "cell_type": "markdown",
   "metadata": {},
   "source": [
    "**a.** Modify the code to add the application of the filter at each time step. You can reuse the command for the calculation `dfdx`. Hint: make sure to impose the periodic boundary condition on the filtered solution."
   ]
  }
 ],
 "metadata": {
  "anaconda-cloud": {},
  "kernelspec": {
   "display_name": "Python 3",
   "language": "python",
   "name": "python3"
  },
  "language_info": {
   "codemirror_mode": {
    "name": "ipython",
    "version": 3
   },
   "file_extension": ".py",
   "mimetype": "text/x-python",
   "name": "python",
   "nbconvert_exporter": "python",
   "pygments_lexer": "ipython3",
   "version": "3.7.1"
  }
 },
 "nbformat": 4,
 "nbformat_minor": 1
}
