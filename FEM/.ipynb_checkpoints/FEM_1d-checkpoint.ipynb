{
 "cells": [
  {
   "cell_type": "markdown",
   "metadata": {},
   "source": [
    "# EAA Winter School in Computational Acoustics 2018\n",
    "\n",
    "\n",
    "## An introduction to 1D Finite-Element \n",
    "\n",
    "The objective of this first practice is to \n",
    " 1. do your first finite-element model\n",
    " 2. test linear and quadratic finite-elements\n",
    " 3. make your first convergence curves\n",
    "\n",
    "\n",
    "### Preamble\n",
    "\n",
    "We begin by loading a number of standard modules such as `numpy` and `matplotlib`. We also adjust some default parameters of figures."
   ]
  },
  {
   "cell_type": "code",
   "execution_count": 137,
   "metadata": {
    "collapsed": true
   },
   "outputs": [],
   "source": [
    "import numpy as np\n",
    "import matplotlib.pyplot as plt\n",
    "from scipy.linalg import eig\n",
    "from scipy.sparse.linalg import eigs"
   ]
  },
  {
   "cell_type": "code",
   "execution_count": 138,
   "metadata": {
    "collapsed": true
   },
   "outputs": [],
   "source": [
    "%matplotlib inline\n",
    "import matplotlib as mpl\n",
    "mpl.rc('lines', linewidth=2)\n",
    "mpl.rc('font', size=14)\n",
    "mpl.rc('axes', linewidth=1.5, labelsize=14)\n",
    "mpl.rc('legend', fontsize=14)"
   ]
  },
  {
   "cell_type": "markdown",
   "metadata": {},
   "source": [
    "### Definition of the problem\n",
    "\n",
    "We consider the 1D propagation in a tube. It is governed by the Helmholtz equation:\n",
    "$$\n",
    "p''(x)\n",
    "+ k^2 p(x)\n",
    "= 0 \\textrm{ in } \\Omega.\n",
    "$$\n",
    "where $p(x)$ is the acoustic pressure and $\\Omega=]-L;0[$ is the geometrical domain associated to the tube. At the boundary of the domain, several different conditions can be considered. In the case of this first practice, we will consider rigid walls so that the derivative of the pressure are zero.\n",
    "\n",
    "The weak form associated to this problem is \n",
    "$$ \n",
    "\\forall q\\in V,\\quad \\Big[\n",
    "p'(x)q(x)\n",
    "\\Big]_{-L}^0 - \\displaystyle{\\int_{-L}^0} p'(x)q'(x)dx + k^2 \\displaystyle{\\int_{-L}^0} p(x)q(x)dx =0 \n",
    "$$\n",
    "$V$ is the space in which both functions belongs.\n"
   ]
  },
  {
   "cell_type": "markdown",
   "metadata": {},
   "source": [
    "### Computation of modes of the tube\n",
    "\n",
    "We will compute the modes of the tube with closed ends on both sides. In that case, as $p'(-L)=p'(0)=0$, the bracket term of the weak form is zero. We will compute, by the Finite-Element Method the modes of the cavity. We know that analytically, in this case, the values possible values are discrete and given by:\n",
    "$$ k_n=\\dfrac{n\\pi}{L},\\quad n\\in\\mathbb{N}$$. So as to simplify the analysis, we will consider that the length of the tube is $L=\\pi$:"
   ]
  },
  {
   "cell_type": "code",
   "execution_count": 139,
   "metadata": {
    "collapsed": true
   },
   "outputs": [],
   "source": [
    "L=np.pi"
   ]
  },
  {
   "cell_type": "markdown",
   "metadata": {},
   "source": [
    "### Discretisation by a single linear element\n",
    "\n",
    "We will implement the FEM for a single linear element. On the whole domain (element), the pressure and the test functions are assumed to be linear:\n",
    "$$ p(x)=p_1\\phi_1(x)+p_2\\phi_2(x),\\quad \\phi_1(x)=1-\\dfrac{x}{L},\\quad \\phi_2(x)=\\dfrac{x}{L},$$\n",
    "where $p_1$ and $p_2$ are the two degrees of freedom. $\\phi_1$ and $\\phi_2$ are called the shape functions and links the approximation of the function in each point $x$ of the element as a function of the unknowns $p_1$ and $p_2$.\n",
    "\n"
   ]
  },
  {
   "cell_type": "code",
   "execution_count": 140,
   "metadata": {},
   "outputs": [
    {
     "data": {
      "image/png": "[encoded data removed]",
      "text/plain": [
       "<matplotlib.figure.Figure at 0x10e33bdd8>"
      ]
     },
     "metadata": {},
     "output_type": "display_data"
    }
   ],
   "source": [
    "x = np.linspace(0,L,200)\n",
    "plt.figure()\n",
    "plt.plot(x,1-x/L,'r',label='$\\phi_1(x)$')\n",
    "plt.plot(x,x/L,'b',label='$\\phi_2(x)$')\n",
    "plt.xlabel('x');plt.ylabel('Shape functions')\n",
    "plt.legend()\n",
    "plt.show()"
   ]
  },
  {
   "cell_type": "markdown",
   "metadata": {},
   "source": [
    "><div class=\"alert alert-block alert-info\">\n",
    "If the two nodes $x=0$ and $x=L$ are respectively denoted by $x_1$ and $x_2$, what is the value of \n",
    "$ \\phi_k(x_k)$ ? What is then the significance of $p_1$ and $p_2$ ?\n",
    "\n"
   ]
  },
  {
   "cell_type": "markdown",
   "metadata": {},
   "source": [
    "A similar approximation is considered for the test field $q$: \n",
    "$$ q(x)=q_1\\phi_1(x)+q_2\\phi_2(x).$$\n",
    "\n",
    "The weak form is then approximated as:\n",
    "$$ \n",
    "\\forall q_1,q_2\\in \\mathbb{R},\\quad \n",
    "\\{q_1,\\,q_2\\} \\Big(\n",
    "[\\boldsymbol{H}_e(\\delta)]-k^2[\\boldsymbol{Q}_e(\\delta)]\\Big)\\begin{Bmatrix}p_1\\\\p_2\n",
    "\\end{Bmatrix}\n",
    "=0 \n",
    "$$\n",
    "with:\n",
    "$$ [\\boldsymbol{H}_e(\\delta)]=\\dfrac{1}{\\delta}\\begin{bmatrix}1&-1\\\\-1&1\\end{bmatrix},\\quad [\\boldsymbol{Q}_e(\\delta)]=\\dfrac{\\delta}{6}\\begin{bmatrix}2&1\\\\1&2\\end{bmatrix}.$$\n",
    "The expressions of the matrices are given for the moment. We will see in another notebook how to compute them."
   ]
  },
  {
   "cell_type": "code",
   "execution_count": 141,
   "metadata": {
    "collapsed": true
   },
   "outputs": [],
   "source": [
    "def H_e(delta):\n",
    "    return (1/delta)*np.array([[1.,-1.],[-1.,1.]])\n",
    "\n",
    "def Q_e(delta):\n",
    "    return (delta/6.)*np.array([[2.,1.],[1.,2.]])"
   ]
  },
  {
   "cell_type": "markdown",
   "metadata": {},
   "source": [
    "$k$ are associated to the eigenvalues of the generalised eigenvalue problem:\n",
    "$$ [\\boldsymbol{H}_e(\\delta)]\\begin{Bmatrix}p_1\\\\p_2\n",
    "\\end{Bmatrix}=k^2[\\boldsymbol{Q}_e(\\delta)]\\begin{Bmatrix}p_1\\\\p_2\n",
    "\\end{Bmatrix}.$$"
   ]
  },
  {
   "cell_type": "code",
   "execution_count": 142,
   "metadata": {},
   "outputs": [
    {
     "name": "stdout",
     "output_type": "stream",
     "text": [
      "[0.        +0.j 1.10265779+0.j]\n"
     ]
    }
   ],
   "source": [
    "delta = L\n",
    "k = np.sqrt(eig( H_e(delta), Q_e(delta),left=False,right=False))\n",
    "print(k)"
   ]
  },
  {
   "cell_type": "markdown",
   "metadata": {},
   "source": [
    "><div class=\"alert alert-block alert-info\">\n",
    "We then obtain two eigenvalues. The first one is zero, explain why. The second is an approximation of $1$ (as $L=\\pi$). "
   ]
  },
  {
   "cell_type": "markdown",
   "metadata": {},
   "source": [
    "### Discretisation by several linear elements:\n",
    "\n",
    "We will now consider $n$ linear elements. $\\Omega$ is divided in $n$ subdomains of length $\\delta=L/n$ on which a linear approximation of the physical and test function is considered. The pressure at the $n+1$ nodes are respectively denoted by $p_0$ ... $p_n$ and the weak form is:\n",
    "$$ \n",
    "\\forall q_1,...,q_n\\in \\mathbb{R},\\quad \\displaystyle{\\sum_{j=1}^n}\n",
    "\\{q_{j-1},\\,q_{j}\\} \\Big(\n",
    "[\\boldsymbol{H}_e(\\delta)]-k^2[\\boldsymbol{Q}_e(\\delta)]\\Big)\\begin{Bmatrix}p_{j-1}\\\\p_j\n",
    "\\end{Bmatrix}\n",
    "=0.$$"
   ]
  },
  {
   "cell_type": "markdown",
   "metadata": {},
   "source": [
    "><div class=\"alert alert-block alert-info\">\n",
    "What are, formally, the global matrices $[\\boldsymbol{H}]$ and $[\\boldsymbol{Q}]$ so that the weak form is approximated by:\n",
    "$$ \n",
    "\\forall q_0,...,q_{n}\\in \\mathbb{R},\\quad \n",
    "\\{q_1,\\,...,q_n\\} \\Big(\n",
    "[\\boldsymbol{H}]-k^2[\\boldsymbol{Q}]\\Big)\\begin{Bmatrix}p_0\\\\\\vdots \\\\p_n\n",
    "\\end{Bmatrix}\n",
    "=0?$$"
   ]
  },
  {
   "cell_type": "markdown",
   "metadata": {},
   "source": [
    "The implementation for $n$ elements is:"
   ]
  },
  {
   "cell_type": "code",
   "execution_count": 143,
   "metadata": {},
   "outputs": [
    {
     "name": "stdout",
     "output_type": "stream",
     "text": [
      "[1.11926428e-08+0.j 1.02585908e+00+0.j 2.20531558e+00+0.j]\n"
     ]
    }
   ],
   "source": [
    "n =4\n",
    "delta = L/n\n",
    "H =np.zeros((n+1,n+1))\n",
    "Q =np.zeros((n+1,n+1))\n",
    "for ie in range(n): # loop on the elements\n",
    "    dof = slice(ie, ie+2) # indices of the local dofs\n",
    "    H[dof,dof] += H_e(delta)\n",
    "    Q[dof,dof] += Q_e(delta)\n",
    "k = np.sort(np.sqrt(eigs(H, 3, Q,which='SM',return_eigenvectors=False)))\n",
    "print(k)"
   ]
  },
  {
   "cell_type": "markdown",
   "metadata": {},
   "source": [
    "You can modify the value of n  the previous cell."
   ]
  },
  {
   "cell_type": "markdown",
   "metadata": {},
   "source": [
    "><div class=\"alert alert-block alert-info\">\n",
    "How many elements do we need to have a precision of 1\\% for the first eigenvalue ? Same question for the second eigenvalue."
   ]
  },
  {
   "cell_type": "markdown",
   "metadata": {},
   "source": [
    "### Discretisation by a single quadratic element\n",
    "\n",
    "We will now consider quadratic elements and will consider the case of a single element of length $\\delta=L$. On this element, the pressure is approximated by a second order function:\n",
    "$$ p(x)=p_1\\phi_1(x)+p_2\\phi_2(x)+p_3\\phi_3(x), $$\n",
    "where $p_1$, $p_2$ and $p_3$ are the three degrees of freedom. A similar interpolation is considered for the test-function.\n",
    "\n",
    "The shape functions are:\n",
    "$$ \\phi_1(x)=\\dfrac{(x-L/2)(x-L)}{L^2/2},\\quad\\phi_2(x)-\\dfrac{x(x-L)}{L^2/4},\\quad \\phi_3(x)=\\dfrac{(x)(x-L/2)}{L^2/2}.$$"
   ]
  },
  {
   "cell_type": "code",
   "execution_count": 144,
   "metadata": {},
   "outputs": [
    {
     "data": {
      "image/png": "[encoded data removed]",
      "text/plain": [
       "<matplotlib.figure.Figure at 0x10e0d00f0>"
      ]
     },
     "metadata": {},
     "output_type": "display_data"
    }
   ],
   "source": [
    "x = np.linspace(0,L,200)\n",
    "plt.figure()\n",
    "plt.plot(x,(2/L**2)*(x-L/2)*(x-L),'r',label='$\\phi_1(x)$')\n",
    "plt.plot(x,-(4/L**2)*x*(x-L),'b',label='$\\phi_2(x)$')\n",
    "plt.plot(x,(2/L**2)*x*(x-L/2),'m',label='$\\phi_3(x)$')\n",
    "plt.xlabel('x');plt.ylabel('Shape functions')\n",
    "plt.legend()\n",
    "plt.show()"
   ]
  },
  {
   "cell_type": "markdown",
   "metadata": {},
   "source": [
    "><div class=\"alert alert-block alert-info\">\n",
    "If the two nodes $x=0$, $x=L/2$ and $x=L$ are respectively denoted by $x_1$, $x_2$ and $x_3$, what is the value of \n",
    "$ \\phi_k(x_k)$ ? What is then the significance of $p_1$, $p_2$ and $p_3$ ?"
   ]
  },
  {
   "cell_type": "markdown",
   "metadata": {},
   "source": [
    "The weak form for the discretisation by one quadratic element is:\n",
    "\n",
    "$$ \n",
    "\\forall q_1,q_2,q_3\\in \\mathbb{R},\\quad \n",
    "\\{q_1,\\,q_2,q_3\\} \\Big(\n",
    "[\\boldsymbol{H}_e'(\\delta)]-k^2[\\boldsymbol{Q}_e'(\\delta)]\\Big)\\begin{Bmatrix}p_1\\\\p_2\\\\p_3\n",
    "\\end{Bmatrix}\n",
    "=0 \n",
    "$$\n",
    "with:\n",
    "$$ [\\boldsymbol{H}_e'(\\delta)]=\\dfrac{1}{3\\delta}\\begin{bmatrix}7&-8&1\\\\-8&16&-8\\\\1&-8&7\\end{bmatrix},\\quad [\\boldsymbol{Q}_e'(\\delta)]=\\dfrac{\\delta}{30}\\begin{bmatrix}\n",
    "4& 2& -1 \\\\2 &16& 2\\\\-1& 2 &4\n",
    "\\end{bmatrix}.$$\n",
    " "
   ]
  },
  {
   "cell_type": "code",
   "execution_count": 145,
   "metadata": {},
   "outputs": [],
   "source": [
    "def H_e_quad(delta):\n",
    "    return (1/(3*delta))*np.array([[7.,-8.,1],[-8.,16.,-8],[1.,-8.,7]])\n",
    "def Q_e_quad(delta):\n",
    "    return (delta/30.)*np.array([[4.,2.,-1],[2.,16.,2],[-1,2,4]])"
   ]
  },
  {
   "cell_type": "markdown",
   "metadata": {},
   "source": [
    "Let compute the first two values of $k$:"
   ]
  },
  {
   "cell_type": "code",
   "execution_count": 146,
   "metadata": {},
   "outputs": [
    {
     "name": "stdout",
     "output_type": "stream",
     "text": [
      "[9.12275720e-09+0.j 1.10265779e+00+0.j 2.46561778e+00+0.j]\n"
     ]
    }
   ],
   "source": [
    "delta = L\n",
    "k = np.sort(np.sqrt(eig( H_e_quad(delta), Q_e_quad(delta),left=False,right=False)))\n",
    "print(k)"
   ]
  },
  {
   "cell_type": "markdown",
   "metadata": {},
   "source": [
    "><div class=\"alert alert-block alert-info\">\n",
    "Explain why the first (non-zero) eigenvalue is the same than the one computed for a single linear element.\n"
   ]
  },
  {
   "cell_type": "markdown",
   "metadata": {},
   "source": [
    "In order "
   ]
  },
  {
   "cell_type": "code",
   "execution_count": 147,
   "metadata": {},
   "outputs": [
    {
     "name": "stdout",
     "output_type": "stream",
     "text": [
      "[1.11926428e-08+0.j 1.00375412e+00+0.j]\n"
     ]
    }
   ],
   "source": [
    "n =2\n",
    "delta = L/n\n",
    "H =np.zeros((2*n+1,2*n+1))\n",
    "Q =np.zeros((2*n+1,2*n+1))\n",
    "\n",
    "for ie in range(n): # loop on the elements\n",
    "    dof = slice(2*ie, 2*ie+3) # indices of the local dofs\n",
    "    H[dof,dof] += H_e_quad(delta)\n",
    "    Q[dof,dof] += Q_e_quad(delta)\n",
    "k = np.sort(np.sqrt(eigs(H, 2, Q,which='SM',return_eigenvectors=False)))\n",
    "print(k)    \n",
    "    "
   ]
  },
  {
   "cell_type": "markdown",
   "metadata": {},
   "source": [
    "><div class=\"alert alert-block alert-info\">\n",
    "To have a global problem with 5 degrees of freedom, we can either choose to discretise by 4 linear elements or by 2 quadratic elements. What is the best choice? Explain why."
   ]
  },
  {
   "cell_type": "markdown",
   "metadata": {},
   "source": [
    "### Convergence, first approach\n",
    "\n",
    "We will now consider the convergence of the method which is the quality of the approximation as a function of the number of degrees of freedom. Two functions are first defined:"
   ]
  },
  {
   "cell_type": "code",
   "execution_count": 152,
   "metadata": {},
   "outputs": [],
   "source": [
    "def error_lin(n):\n",
    "    delta = L/n\n",
    "    H =np.zeros((n+1,n+1))\n",
    "    Q =np.zeros((n+1,n+1))\n",
    "    for ie in range(n): # loop on the elements\n",
    "        dof = slice(ie, ie+2) # indices of the local dofs\n",
    "        H[dof,dof] += H_e(delta)\n",
    "        Q[dof,dof] += Q_e(delta)\n",
    "    k = np.sort(np.sqrt(eigs(H, 2, Q,which='SM',return_eigenvectors=False)))    \n",
    "    return(k[1].real-np.pi/L)\n",
    "    \n",
    "def error_quad(n):    \n",
    "    delta = L/n\n",
    "    H =np.zeros((2*n+1,2*n+1))\n",
    "    Q =np.zeros((2*n+1,2*n+1))\n",
    "\n",
    "    for ie in range(n): # loop on the elements\n",
    "        dof = slice(2*ie, 2*ie+3) # indices of the local dofs\n",
    "        H[dof,dof] += H_e_quad(delta)\n",
    "        Q[dof,dof] += Q_e_quad(delta)\n",
    "    k = np.sort(np.sqrt(eigs(H, 2, Q,which='SM',return_eigenvectors=False)))\n",
    "    return (k[1].real-np.pi/L)"
   ]
  },
  {
   "cell_type": "markdown",
   "metadata": {},
   "source": [
    "For 5 linear elements, the error is:"
   ]
  },
  {
   "cell_type": "code",
   "execution_count": 153,
   "metadata": {},
   "outputs": [
    {
     "name": "stdout",
     "output_type": "stream",
     "text": [
      "0.016520017861562986\n"
     ]
    }
   ],
   "source": [
    "print(error_lin(5))"
   ]
  },
  {
   "cell_type": "markdown",
   "metadata": {},
   "source": [
    "What can we say the error when the number of degrees of freedom is multiplied by 2 for linear and quadratic elements"
   ]
  },
  {
   "cell_type": "code",
   "execution_count": 172,
   "metadata": {},
   "outputs": [
    {
     "name": "stdout",
     "output_type": "stream",
     "text": [
      "4.000409467440108\n",
      "15.991823940550002\n"
     ]
    }
   ],
   "source": [
    "n = 30\n",
    "print(error_lin(n)/error_lin(2*n))\n",
    "print(error_quad(n)/error_quad(2*n))"
   ]
  },
  {
   "cell_type": "markdown",
   "metadata": {},
   "source": [
    "### Convergence curves\n",
    "\n",
    "We will now consider the convergence of the method which is the quality of the approximation as a function of the number of degrees of freedom. Two functions are first defined:"
   ]
  },
  {
   "cell_type": "code",
   "execution_count": 188,
   "metadata": {},
   "outputs": [
    {
     "data": {
      "image/png": "[encoded data removed]",
      "text/plain": [
       "<matplotlib.figure.Figure at 0x10e3f61d0>"
      ]
     },
     "metadata": {},
     "output_type": "display_data"
    }
   ],
   "source": [
    "n_max = 30\n",
    "h=np.zeros(n_max)\n",
    "eps_lin=np.zeros(n_max)\n",
    "eps_quad=np.zeros(n_max)\n",
    "\n",
    "for i_n in range(3,n_max):\n",
    "    h[i_n] = L/i_n\n",
    "    eps_lin[i_n]=error_lin(i_n)\n",
    "    eps_quad[i_n]=error_quad(i_n)\n",
    "    \n",
    "plt.figure()\n",
    "plt.loglog(h,eps_lin,'r.-',label='Error linear elements')\n",
    "plt.loglog(h,eps_quad,'b.-',label='Error quad elements')\n",
    "plt.legend()\n",
    "plt.loglog(h,h**2,'m.-',label='Error linear elements')\n",
    "plt.show()"
   ]
  },
  {
   "cell_type": "code",
   "execution_count": null,
   "metadata": {
    "collapsed": true
   },
   "outputs": [],
   "source": []
  },
  {
   "cell_type": "code",
   "execution_count": null,
   "metadata": {
    "collapsed": true
   },
   "outputs": [],
   "source": []
  },
  {
   "cell_type": "code",
   "execution_count": null,
   "metadata": {
    "collapsed": true
   },
   "outputs": [],
   "source": []
  }
 ],
 "metadata": {
  "anaconda-cloud": {},
  "kernelspec": {
   "display_name": "Python 3",
   "language": "python",
   "name": "python3"
  },
  "language_info": {
   "codemirror_mode": {
    "name": "ipython",
    "version": 3
   },
   "file_extension": ".py",
   "mimetype": "text/x-python",
   "name": "python",
   "nbconvert_exporter": "python",
   "pygments_lexer": "ipython3",
   "version": "3.6.5"
  }
 },
 "nbformat": 4,
 "nbformat_minor": 1
}
