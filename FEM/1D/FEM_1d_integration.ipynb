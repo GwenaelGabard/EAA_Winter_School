{
 "cells": [
  {
   "cell_type": "markdown",
   "metadata": {},
   "source": [
    "# EAA Winter School in Computational Acoustics 2018\n",
    "\n",
    "\n",
    "## Numerical integration\n",
    "\n",
    "The objective of this first tutorial is to present numerical integration\n"
   ]
  },
  {
   "cell_type": "code",
   "execution_count": 7,
   "metadata": {
    "collapsed": true
   },
   "outputs": [],
   "source": [
    "import numpy as np\n",
    "import matplotlib.pyplot as plt\n",
    "from scipy.special import legendre"
   ]
  },
  {
   "cell_type": "code",
   "execution_count": 8,
   "metadata": {
    "collapsed": true
   },
   "outputs": [],
   "source": [
    "%matplotlib inline\n",
    "import matplotlib as mpl\n",
    "mpl.rc('lines', linewidth=2)\n",
    "mpl.rc('font', size=14)\n",
    "mpl.rc('axes', linewidth=1.5, labelsize=14)\n",
    "mpl.rc('legend', fontsize=14)"
   ]
  },
  {
   "cell_type": "markdown",
   "metadata": {},
   "source": [
    "### Definition of the problem\n",
    "\n",
    "The expression of the $(i,j)$ entries of the mass and stiffness matrices are:\n",
    "$$[\\boldsymbol{M}_e]_{i,j}=\n",
    "\\displaystyle{\\int_0^\\delta \\phi_i(x)\\phi_j(x) dx},\\quad\n",
    "[\\boldsymbol{K}_e]_{i,j}=\n",
    "\\displaystyle{\\int_0^\\delta \\phi_i'(x)\\phi_j'(x) dx}.$$\n",
    "\n",
    "The $\\phi$ functions are polynomials that relates the values of the fields as a function of the degrees of freedom. These expressions depends from the length $\\delta$ of the element. Instead of integrating between $0$ and $h$, one solution is to link this integral to the one on a (standardised) reference interval (]-1;1[):"
   ]
  },
  {
   "cell_type": "markdown",
   "metadata": {
    "collapsed": true
   },
   "source": [
    "><div class=\"alert alert-block alert-info\">\n",
    "Show that \n",
    "$$ \\displaystyle{\\int_0^\\delta \\phi_i(x)\\phi_j(x) dx}=\\dfrac{\\delta}{2}\\displaystyle{\\int_{-1}^1 N_i(\\xi)N_j(\\xi) d\\xi},\\quad \\displaystyle{\\int_0^\\delta \\phi_i'(x)\\phi_j'(x) dx}=\\dfrac{2}{\\delta}\\displaystyle{\\int_{-1}^1 N_i(\\xi)N_j(\\xi) d\\xi}$$\n",
    "and what are the expression of the shape functions $N$ ?"
   ]
  },
  {
   "cell_type": "markdown",
   "metadata": {
    "collapsed": true
   },
   "source": [
    "As an example, for linear elements, the two $\\phi$ functions are:\n",
    "$$ \\phi_1(x)=1-\\dfrac{x}{\\delta},\\quad \\phi_2(x)=\\dfrac{x}{\\delta}$$"
   ]
  },
  {
   "cell_type": "markdown",
   "metadata": {},
   "source": [
    "><div class=\"alert alert-block alert-info\">\n",
    "What are the expressions of $N_1(\\xi)$ and $N_2(\\xi)$ ? Compute the integrals $\\displaystyle{\\int_{-1}^1 N_i'(\\xi)N_j'(\\xi) d\\xi}$ and show that the expression of the stiffness matrix is:\n",
    "$$ [\\boldsymbol{K}_e] =\\dfrac{1}{\\delta}\\begin{bmatrix}\n",
    "1 & -1\\\\-1 & 1\n",
    "\\end{bmatrix}$$\n",
    "To obtain these four coefficients, we then need to compute four integrals, but this number can be reduced. How many independent integrations are necessary? "
   ]
  },
  {
   "cell_type": "markdown",
   "metadata": {},
   "source": [
    "We can compute the mass matrix in a similar way:"
   ]
  },
  {
   "cell_type": "markdown",
   "metadata": {},
   "source": [
    "><div class=\"alert alert-block alert-info\">\n",
    "Show that the expression of the mass matrix is:\n",
    "$$ [\\boldsymbol{M}_e] =\\dfrac{\\delta}{6}\\begin{bmatrix}\n",
    "2 & 1\\\\1 & 2\n",
    "\\end{bmatrix}.$$"
   ]
  },
  {
   "cell_type": "markdown",
   "metadata": {},
   "source": [
    "To obtain the previous expressions, we have first computed the product of the two shape functions (or their derivatives) the integrated this product. It was quite easy as the degrees for linear elements were rather low but this can become tremendous for higher order shape functions or when the elements will be two or three dimensional. Another mean consists in using a numerical integration.\n",
    "\n",
    "All the schemes share the same formalism:\n",
    "$$ \\displaystyle{\\int_{-1}^1} f(\\xi) d\\xi \\approx \\displaystyle{\\sum_{k=0}^n} w_kf(x_k).$$\n",
    "\n",
    "The integral is then replaced by a linear combination of the values of the function at some particular points $x_k$ called nodes and to each on is associated a weight $w_k$. The different schemes will differ by the number $n+1$ of points, their location, and the values of the weights. \n",
    "\n",
    "A classical rule is the Simpson rule of wich the coefficients are:\n",
    "$$ x_0=-1,\\quad x_1=0,\\quad x_2=1,\\quad\n",
    "w_0=\\dfrac{1}{6},\\quad w_1=\\dfrac{4}{6},\\quad w_2=\\dfrac{1}{6}$$"
   ]
  },
  {
   "cell_type": "markdown",
   "metadata": {},
   "source": [
    "><div class=\"alert alert-block alert-info\">\n",
    "Apply the rule to the mass matrix (for which the polynomial to integrate is of degree 2). What is the quality of the approximation ?"
   ]
  },
  {
   "cell_type": "markdown",
   "metadata": {},
   "source": [
    "It can be shown rigorously that this scheme provide the exact solution for any polynomial of degree lower than 2. The Simpson quadrature method is then called second order. We can show that with a set of $n$ equidistant points, we can chose the coefficients so that the method is or order $n-1$.\n",
    "\n",
    "Its nice. We can replace the formal integration by a combination of the values of the function!  \n",
    "\n",
    "But we can do highly better, let's try the following set of points and coefficients:\n",
    "$$ x_0=-\\sqrt{1/3},\\quad x_1=\\sqrt{1/3},\\quad\n",
    "w_0=1,\\quad w_1=1$$"
   ]
  },
  {
   "cell_type": "markdown",
   "metadata": {},
   "source": [
    "><div class=\"alert alert-block alert-info\">\n",
    "Show that for every polynomial $P(X)=aX^3+bX^2+cX+d$ of degree lower than 2, we have:\n",
    "$$ \\displaystyle{\\int_{-1}^1} P(\\xi) d\\xi = w_0P(x_0)+w_1P(x_1)$$ "
   ]
  },
  {
   "cell_type": "markdown",
   "metadata": {},
   "source": [
    "With just 2 points, we are able to integrate exactly a polynomial of degree 3 ! \n",
    "\n",
    "It can be generalised. With Gauss-Legendre integration we can integrate exactly with a polynomial of degree $2n+1$ with $n+1$ points. The points $x_k$ are the roots of Legendre polynomials of degree $n$ and the weights $w_k$ are given by:\n",
    "$$ w_k=\\dfrac{2}{(1-x_k^2)L_n'(x_k)^2}$$"
   ]
  },
  {
   "cell_type": "code",
   "execution_count": 44,
   "metadata": {},
   "outputs": [],
   "source": [
    "n = 3\n",
    "def Gauss_Legendre_coefficients(n):\n",
    "    L_n = legendre(n) # Legendre polynomial of degree n \n",
    "    x = np.roots(L_n) # Gauss points are the roots of L_n\n",
    "    dL_n = np.polyder(L_n) # derivative of L_n\n",
    "    w = 2/((1-x**2)*np.polyval(dL_n,x)**2) # weights\n",
    "    return x,w"
   ]
  },
  {
   "cell_type": "markdown",
   "metadata": {},
   "source": [
    "The quadrature rule is then implemented as:"
   ]
  },
  {
   "cell_type": "code",
   "execution_count": 44,
   "metadata": {
    "collapsed": true
   },
   "outputs": [],
   "source": [
    "n = 3\n",
    "def Gauss_Legendre_coefficients(n):\n",
    "    L_n = legendre(n) # Legendre polynomial of degree n \n",
    "    x = np.roots(L_n) # Gauss points are the roots of L_n\n",
    "    dL_n = np.polyder(L_n) # derivative of L_n\n",
    "    w = 2/((1-x**2)*np.polyval(dL_n,x)**2) # weights\n",
    "    return x,w\n",
    "\n",
    "def Gauss_Legendre_quad(P,x,w):\n",
    "    sum =0\n",
    "    for k in range(len(x)):\n",
    "        sum += w[k]*np.polyval(P,x[k])\n",
    "    return sum"
   ]
  },
  {
   "cell_type": "markdown",
   "metadata": {},
   "source": [
    "We can then apply this method to compute the mass matrix for linear elements. 2 Gauss points are necessary"
   ]
  },
  {
   "cell_type": "code",
   "execution_count": 49,
   "metadata": {},
   "outputs": [
    {
     "name": "stdout",
     "output_type": "stream",
     "text": [
      "[[0.66666667 0.33333333]\n",
      " [0.33333333 0.66666667]]\n"
     ]
    }
   ],
   "source": [
    "n = 2\n",
    "x,w = Gauss_Legendre_coefficients(n)\n",
    "# Vector of the shape functions\n",
    "N =[]\n",
    "N.append(np.poly1d([-1/2,1/2]))\n",
    "N.append(np.poly1d([1/2,1/2]))\n",
    "#  \n",
    "M = np.zeros((2,2))\n",
    "for i in range(2):\n",
    "    for j in range(i,2):\n",
    "        M[i,j] = Gauss_Legendre_quad(N[i]*N[j],x,w)\n",
    "        M[j,i] = M[i,j]\n",
    "\n",
    "print(M)"
   ]
  },
  {
   "cell_type": "markdown",
   "metadata": {},
   "source": [
    "><div class=\"alert alert-block alert-info\">\n",
    "Use this method to compute the mass and stifness matrices associated to quandratic elements"
   ]
  },
  {
   "cell_type": "code",
   "execution_count": null,
   "metadata": {
    "collapsed": true
   },
   "outputs": [],
   "source": []
  }
 ],
 "metadata": {
  "anaconda-cloud": {},
  "kernelspec": {
   "display_name": "Python 3",
   "language": "python",
   "name": "python3"
  },
  "language_info": {
   "codemirror_mode": {
    "name": "ipython",
    "version": 3
   },
   "file_extension": ".py",
   "mimetype": "text/x-python",
   "name": "python",
   "nbconvert_exporter": "python",
   "pygments_lexer": "ipython3",
   "version": "3.6.5"
  }
 },
 "nbformat": 4,
 "nbformat_minor": 1
}
