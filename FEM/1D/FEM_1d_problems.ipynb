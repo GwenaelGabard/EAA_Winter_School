{
 "cells": [
  {
   "cell_type": "markdown",
   "metadata": {},
   "source": [
    "# EAA Winter School in Computational Acoustics 2018\n",
    "\n",
    "\n",
    "## Direct responses calculation\n",
    "\n",
    "In the first practice, only Neuman conditions (nullity of the normal derivative of the function) and mode computations were considered. The objective of this tutorial is to study how to implement other boundary conditions and to compute direct responses. It corresponds to the worked example proposed in the section 2 of the lecture.\n"
   ]
  },
  {
   "cell_type": "code",
   "execution_count": 1,
   "metadata": {
    "collapsed": true
   },
   "outputs": [],
   "source": [
    "import numpy as np\n",
    "import matplotlib.pyplot as plt"
   ]
  },
  {
   "cell_type": "code",
   "execution_count": 2,
   "metadata": {
    "collapsed": true
   },
   "outputs": [],
   "source": [
    "%matplotlib inline\n",
    "import matplotlib as mpl\n",
    "mpl.rc('lines', linewidth=2)\n",
    "mpl.rc('font', size=14)\n",
    "mpl.rc('axes', linewidth=1.5, labelsize=14)\n",
    "mpl.rc('legend', fontsize=14)"
   ]
  },
  {
   "cell_type": "markdown",
   "metadata": {},
   "source": [
    "Assignation of some  constants"
   ]
  },
  {
   "cell_type": "code",
   "execution_count": 3,
   "metadata": {
    "collapsed": true
   },
   "outputs": [],
   "source": [
    "j = np.sqrt(np.complex(-1.,0))\n",
    "c_0 = 340; rho_0 = 1.2; Z_0= rho_0*c_0 # Medium parameters\n",
    "L = 1 # Dimension of the tube\n",
    "Up=1 # Value of the imposed velocity"
   ]
  },
  {
   "cell_type": "markdown",
   "metadata": {},
   "source": [
    "We will consider harmonic excitation with the convention $e^{j\\omega t}$ where $j=\\sqrt{-1}$ and $\\omega=2\\pi f$ is the circular frequency imposed by the source which oscillates at frequency $f$. The  analytical solution in the tube can be written as the superposition of a forward and a backward wave:\n",
    "$$ p(x)=\\alpha e^{-jkx}+\\beta e^{jkx}.$$\n",
    "where $k=\\omega/c$ is the wave number. $\\alpha$ and $\\beta$ are the two unknown amplitudes which can be determined with the help of boundary conditions.\n",
    "\n",
    "On the left of the tube $(x=-L)$, an velocity $U_p$ is imposed:\n",
    "$p'(-L)=-jkZ_0 U_p$. On the right ($x=0$) we have an admitance condition $p'(0)=-jkAp(0)$, where $A$ is the admitance of the termination."
   ]
  },
  {
   "cell_type": "markdown",
   "metadata": {},
   "source": [
    "The relation between $\\alpha$ and $\\beta$ in $x=-L$ leads to:\n",
    "$$ \\Big(\\alpha e^{jkL}-\\beta e^{-jkL}\\Big)=Z_0U_p,\\quad .$$\n",
    "The admitance relation in $x=0$ is:\n",
    "$$\\alpha-\\beta=A(\\alpha+\\beta)$$\n",
    "The values of $\\alpha$ and $\\beta$ are then:\n",
    "$$ \\alpha=\\dfrac{Z_0U_p(1+A)}{(1+A)e^{jkL}+(1-A)e^{-jkL}},\\quad \\beta=\\dfrac{1-A}{1+A}\\alpha.$$"
   ]
  },
  {
   "cell_type": "code",
   "execution_count": 4,
   "metadata": {
    "collapsed": true
   },
   "outputs": [],
   "source": [
    "def analytical_solution(k,L,A=1,x=np.linspace(-L,0,500)):\n",
    "    alpha = Z_0*Up*(1+A)/((1+A)*np.exp(j*k*L)+(1-A)*np.exp(-j*k*L))\n",
    "    beta = alpha *(1-A)/(1+A)\n",
    "    p = alpha*np.exp(-j*k*x)+beta*np.exp(j*k*x)\n",
    "    p = p.reshape((x.size,1))\n",
    "    return x,p"
   ]
  },
  {
   "cell_type": "markdown",
   "metadata": {
    "collapsed": true
   },
   "source": [
    "The weak form associated to this problem is remained: \n",
    "$$ \n",
    "\\forall q\\in V,\\quad \\Big[\n",
    "p'(x)q(x)\n",
    "\\Big]_{-L}^0 - \\displaystyle{\\int_{-L}^0} p'(x)q'(x)dx + \\dfrac{\\omega^2}{c_0^2} \\displaystyle{\\int_{-L}^0} p(x)q(x)dx =0 \n",
    "$$\n",
    "For the considered boundary conditions, we have: \n",
    "$$ \n",
    "\\forall q\\in V,\\quad \n",
    "  \\displaystyle{\\int_{-L}^0} p'(x)q'(x)dx - \\dfrac{\\omega^2}{c_0^2} \\displaystyle{\\int_{-L}^0} p(x)q(x)dx =-jkAp(0)q(0)-jkZ_0U_pq(-L)\n",
    ".$$\n",
    "\n",
    "The term relative to the excitation ($x=-L$) is associated to the first degree of freedom. We can rewrite it as:\n",
    "$$ q(-L) = \\{q_0,\\, ... ,\\, q_{-1}\\}\\underbrace{\\begin{Bmatrix}\n",
    "1\\\\\n",
    "0\\\\\n",
    "\\\\\n",
    "0\n",
    "\\end{Bmatrix}}_{\\bf{F}}$$\n",
    "Similarly, for the $x=0$, we can introduce a global matrix $[\\bf{C}]$ for which all entries are zero except one the last line and last column. We have:\n",
    "$$ q(0)p(0) = \\{q_0,\\, ... ,\\, q_{-1}\\}\\underbrace{\\begin{bmatrix}\n",
    "0 & ...& 0\\\\\n",
    "0 & ...&0\\\\\n",
    "0 & ... & 1\n",
    "\\end{bmatrix}}_{[\\bf{C}]}\n",
    "\\underbrace{\\begin{Bmatrix}\n",
    "p_0\\\\\n",
    "0\\\\\n",
    "\\\\\n",
    "p_{-1}\n",
    "\\end{Bmatrix}}_{\\bf{p}}$$\n",
    "The discretised system is then:\n",
    "$$ \\Big([\\bf{K}]+j\\omega A \n",
    "[\\bf{C}]-\\omega^2\n",
    "[\\bf{M}]\\Big)\\bf{p}=\\rho_0j\\omega U_p\\bf{F}$$\n",
    "\n",
    "The functions to build the mass and stiffness elementary matrices for linear and quadratic elements are the same than in the previous tutorial. They are:"
   ]
  },
  {
   "cell_type": "code",
   "execution_count": 5,
   "metadata": {
    "collapsed": true
   },
   "outputs": [],
   "source": [
    "def K_e_lin(delta):\n",
    "    return (1/delta)*np.array([[1.,-1.],[-1.,1.]])\n",
    "\n",
    "def M_e_lin(delta):\n",
    "    return (delta/(6.*c_0**2))*np.array([[2.,1.],[1.,2.]])\n",
    "\n",
    "def K_e_quad(delta):\n",
    "    return (1/(3*delta))*np.array([[7.,-8.,1],[-8.,16.,-8],[1.,-8.,7]])\n",
    "\n",
    "def M_e_quad(delta):\n",
    "    return (delta/(30.*c_0**2))*np.array([[4.,2.,-1],[2.,16.,2],[-1,2,4]])"
   ]
  },
  {
   "cell_type": "markdown",
   "metadata": {},
   "source": [
    "The global matrices and vectors are:"
   ]
  },
  {
   "cell_type": "code",
   "execution_count": 6,
   "metadata": {
    "collapsed": true
   },
   "outputs": [],
   "source": [
    "def assembly_global_matrices_lin(n):\n",
    "    delta = L/n\n",
    "    K =np.zeros((n+1,n+1))\n",
    "    C =np.zeros((n+1,n+1))\n",
    "    M =np.zeros((n+1,n+1))\n",
    "    F =np.zeros((n+1,1))\n",
    "    \n",
    "    for ie in range(n): # loop on the elements\n",
    "        dof = slice(ie, ie+2) # indices of the local dofs\n",
    "        K[dof,dof] += K_e_lin(delta)\n",
    "        M[dof,dof] += M_e_lin(delta)\n",
    "    C[-1,-1] = 1 / c_0\n",
    "    F[0] = 1\n",
    "    return K,C,M,F\n",
    "\n",
    "def assembly_global_matrices_quad(n):\n",
    "    delta = L/n\n",
    "    K =np.zeros((2*n+1,2*n+1))\n",
    "    C =np.zeros((2*n+1,2*n+1))\n",
    "    M =np.zeros((2*n+1,2*n+1))\n",
    "    F =np.zeros((2*n+1,1))\n",
    "    \n",
    "    for ie in range(n): # loop on the elements\n",
    "        dof = slice(2*ie, 2*ie+3) # indices of the local dofs\n",
    "        K[dof,dof] += K_e_quad(delta)\n",
    "        M[dof,dof] += M_e_quad(delta)\n",
    "    C[-1,-1] = 1 / c_0\n",
    "    F[0] = 1\n",
    "    return K,C,M,F\n",
    "\n",
    "def compute_FEM_solution(omega,A,K,C,M,F):\n",
    "    x = np.linspace(-L,0,F.size)\n",
    "    A = K+j*omega*A*C-omega**2*M\n",
    "    b = rho_0*j*omega*Up*F\n",
    "    p = np.linalg.solve(A,b)\n",
    "    return x,p\n"
   ]
  },
  {
   "cell_type": "markdown",
   "metadata": {},
   "source": [
    "We can then compute the direct response for the examples presented in the lecture of this morning:"
   ]
  },
  {
   "cell_type": "code",
   "execution_count": 8,
   "metadata": {},
   "outputs": [
    {
     "data": {
      "image/png": "[encoded data removed]",
      "text/plain": [
       "<matplotlib.figure.Figure at 0x108a6b358>"
      ]
     },
     "metadata": {},
     "output_type": "display_data"
    }
   ],
   "source": [
    "# Physical parameters\n",
    "f = 340 ; omega =2*np.pi*f\n",
    "k = omega/c_0\n",
    "A =1\n",
    "\n",
    "# Number of elements\n",
    "n=2\n",
    "# Computation of the analytical solution\n",
    "x_analytic, p_analytic=analytical_solution(k,L,A)\n",
    "\n",
    "\n",
    "\n",
    "# Computation for the case of linear elements\n",
    "K_lin,C_lin,M_lin,F_lin = assembly_global_matrices_lin(n)\n",
    "x_lin,p_lin = compute_FEM_solution(omega,A,K_lin,C_lin,M_lin,F_lin)\n",
    "\n",
    "# Computation for the case of quadratic elements\n",
    "K_quad,C_quad,M_quad,F_quad = assembly_global_matrices_quad(n)\n",
    "x_quad,p_quad = compute_FEM_solution(omega,A,K_quad,C_quad,M_quad,F_quad)\n",
    "\n",
    "# Figures\n",
    "plt.figure()\n",
    "plt.plot(x_lin,p_lin.real, label='lin')\n",
    "plt.plot(x_quad,p_quad.real, label='quad')\n",
    "plt.plot(x_analytic,p_analytic.real, label='analytic')\n",
    "plt.legend()\n",
    "plt.show()"
   ]
  },
  {
   "cell_type": "markdown",
   "metadata": {
    "collapsed": true
   },
   "source": [
    "><div class=\"alert alert-block alert-info\">\n",
    "Modify the value of $n$ to investigate qualitatively the convergence of linear and quadratic elements"
   ]
  },
  {
   "cell_type": "markdown",
   "metadata": {},
   "source": [
    "We can compute the error of the method by using the discretisation of the $L^2$ norm:\n",
    "    $$ \\sqrt{\\displaystyle{\\int_{-L}^0}  \\,|p_{ref}-p_{num}|^2 \\,dx}\\approx \\sqrt{\\boldsymbol{\\epsilon}^H[\\boldsymbol{M}]\\boldsymbol{\\epsilon}},$$\n",
    "    where $\\boldsymbol{\\epsilon}$ is the vector of the difference between the analytical and FEM nodal values.\n",
    "    \n",
    "    \n",
    "    "
   ]
  },
  {
   "cell_type": "code",
   "execution_count": 9,
   "metadata": {
    "collapsed": true
   },
   "outputs": [],
   "source": [
    "def error_lin(n):\n",
    "    K,C,M,F = assembly_global_matrices_lin(n)\n",
    "    x,p = compute_FEM_solution(omega,A,K,C,M,F)\n",
    "    x_ref, p_ref=analytical_solution(k,L,A,x)\n",
    "    eps = p_ref-p\n",
    "    temp = M@eps\n",
    "    error = np.absolute(np.conj(eps.T)@eps)\n",
    "    ref = np.absolute(np.conj(p_ref.T@M)@p_ref)\n",
    "    return np.sqrt(error[0,0]/ref[0,0])\n",
    "\n",
    "\n",
    "def error_quad(n):\n",
    "    K,C,M,F = assembly_global_matrices_quad(n)\n",
    "    x,p = compute_FEM_solution(omega,A,K,C,M,F)\n",
    "    x_ref, p_ref=analytical_solution(k,L,A,x)\n",
    "    eps = p_ref-p\n",
    "    temp = M@eps\n",
    "    error = np.absolute(eps.T@eps)\n",
    "    ref = np.absolute(np.conj(p_ref.T@M)@p_ref)\n",
    "    \n",
    "    return np.sqrt(error[0,0]/ref[0,0])"
   ]
  },
  {
   "cell_type": "code",
   "execution_count": 11,
   "metadata": {},
   "outputs": [
    {
     "data": {
      "image/png": "[encoded data removed]",
      "text/plain": [
       "<matplotlib.figure.Figure at 0x108b77240>"
      ]
     },
     "metadata": {},
     "output_type": "display_data"
    }
   ],
   "source": [
    "n_max = 20\n",
    "kh=np.zeros(n_max)\n",
    "eps_lin=np.zeros(n_max)\n",
    "eps_quad=np.zeros(n_max)\n",
    "\n",
    "for i_n in range(3,n_max):\n",
    "    kh[i_n] = k*L/i_n\n",
    "    eps_lin[i_n]=error_lin(i_n)\n",
    "    eps_quad[i_n]=error_quad(i_n)\n",
    "    \n",
    "plt.figure()\n",
    "plt.loglog(kh,eps_lin,'r.-',label='Error linear elements')\n",
    "plt.loglog(kh,eps_quad,'b.-',label='Error quad elements')\n",
    "a = 1\n",
    "p = 1\n",
    "plt.loglog(kh,a*kh**p,'m.-',label='$akh^p$')\n",
    "plt.xlabel('kh') ; plt.ylabel('Error')\n",
    "plt.legend()\n",
    "plt.show()"
   ]
  },
  {
   "cell_type": "code",
   "execution_count": null,
   "metadata": {
    "collapsed": true
   },
   "outputs": [],
   "source": []
  },
  {
   "cell_type": "code",
   "execution_count": null,
   "metadata": {
    "collapsed": true
   },
   "outputs": [],
   "source": []
  }
 ],
 "metadata": {
  "anaconda-cloud": {},
  "kernelspec": {
   "display_name": "Python 3",
   "language": "python",
   "name": "python3"
  },
  "language_info": {
   "codemirror_mode": {
    "name": "ipython",
    "version": 3
   },
   "file_extension": ".py",
   "mimetype": "text/x-python",
   "name": "python",
   "nbconvert_exporter": "python",
   "pygments_lexer": "ipython3",
   "version": "3.6.5"
  }
 },
 "nbformat": 4,
 "nbformat_minor": 1
}
