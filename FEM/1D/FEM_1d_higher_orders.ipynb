{
 "cells": [
  {
   "cell_type": "markdown",
   "metadata": {},
   "source": [
    "# EAA Winter School in Computational Acoustics 2018\n",
    "\n",
    "\n",
    "## Higher order elements\n",
    "\n",
    "The objective of this tutorial is to present higher order elements. We will consider the problem of mode computation of the introductive tutorial where the convergence of linear and quadratic elements was studied. \n",
    "\n",
    "\n",
    "### Preamble\n",
    "\n",
    "We begin by loading a number of standard modules such as `numpy` and `matplotlib`. We also adjust some default parameters of figures."
   ]
  },
  {
   "cell_type": "code",
   "execution_count": 81,
   "metadata": {
    "collapsed": true
   },
   "outputs": [],
   "source": [
    "import numpy as np\n",
    "import matplotlib.pyplot as plt\n",
    "from scipy.sparse.linalg import eigs\n",
    "from scipy.special import legendre"
   ]
  },
  {
   "cell_type": "code",
   "execution_count": 82,
   "metadata": {
    "collapsed": true
   },
   "outputs": [],
   "source": [
    "c_0 = 340\n",
    "L=np.pi * c_0"
   ]
  },
  {
   "cell_type": "markdown",
   "metadata": {},
   "source": [
    "The shape functions rely on Lobatto polynomials:\n",
    "$$ N_0(\\xi)=\\dfrac{1-\\xi}{2},\\quad N_1(\\xi)=\\dfrac{1+\\xi}{2} ,N_q(\\xi)=\\dfrac{1+\\xi}{2}\\quad N_q=\\displaystyle{\\int_{-1}^{\\xi}} L_{q-1}(x) dx$$\n",
    "$L_q$ is the Legendre polynomial of order $q$. We can create a function that returns an arry of Lobatto polynomials:"
   ]
  },
  {
   "cell_type": "code",
   "execution_count": 83,
   "metadata": {
    "collapsed": true
   },
   "outputs": [],
   "source": [
    "def Lobatto(n):\n",
    "    L = []\n",
    "    L.append(np.poly1d([-1/2, 1/2]))\n",
    "    for i_n in range(1, n):\n",
    "        p = np.polyint(legendre(i_n))\n",
    "        L.append(p-p(-1))   # Integration constant to have L(-1)=0\n",
    "    L.append(np.poly1d([1/2, 1/2]))\n",
    "    return L"
   ]
  },
  {
   "cell_type": "markdown",
   "metadata": {},
   "source": [
    "We can plot the first Lobatto function. You can modify the value of $n$."
   ]
  },
  {
   "cell_type": "code",
   "execution_count": 84,
   "metadata": {},
   "outputs": [
    {
     "data": {
      "image/png": "[encoded data removed]",
      "text/plain": [
       "<matplotlib.figure.Figure at 0x107301358>"
      ]
     },
     "metadata": {},
     "output_type": "display_data"
    }
   ],
   "source": [
    "n = 4\n",
    "N = Lobatto(n)\n",
    "x = np.linspace(-1,1,200)\n",
    "plt.figure()\n",
    "for i in range(n+1):\n",
    "    plt.plot(x,N[i](x),label='$N_{}$'.format(i))\n",
    "plt.legend()\n",
    "plt.show()\n",
    "    "
   ]
  },
  {
   "cell_type": "markdown",
   "metadata": {},
   "source": [
    "><div class=\"alert alert-block alert-info\">\n",
    "What is the difference between the three shape functions associated to Lobatto at order 2 and the one of quadratic nodal elements. Explain why Lobatto polynomials are called hierarchical.\n"
   ]
  },
  {
   "cell_type": "markdown",
   "metadata": {},
   "source": [
    "The function to create elementary matrices is as follows"
   ]
  },
  {
   "cell_type": "code",
   "execution_count": 85,
   "metadata": {
    "collapsed": true
   },
   "outputs": [],
   "source": [
    "def Elementary_matrices(order, h):\n",
    "    N = Lobatto(order)\n",
    "    K_elem = np.zeros((order+1, order+1))\n",
    "    M_elem = np.zeros((order+1, order+1))\n",
    "    for ii in range(order+1):\n",
    "        for jj in range(order+1):\n",
    "            temp = np.polyint(N[ii]*N[jj])\n",
    "            M_elem[ii, jj] = temp(1)-temp(-1)\n",
    "            temp = np.polyint(np.polyder(N[ii])*np.polyder(N[jj]))\n",
    "            K_elem[ii, jj] = temp(1)-temp(-1)\n",
    "    M_elem = (h/2/c_0**2)*M_elem\n",
    "    K_elem = (2/h)*K_elem\n",
    "    return M_elem, K_elem"
   ]
  },
  {
   "cell_type": "markdown",
   "metadata": {},
   "source": [
    "><div class=\"alert alert-block alert-info\">\n",
    "In this function, the integration is done analytcally. You can modify it to use a numerical integration as presented in the other tutorial\n"
   ]
  },
  {
   "cell_type": "markdown",
   "metadata": {},
   "source": [
    "We can define an error function that compute, for a given mode, the error between the numerical and analytical values"
   ]
  },
  {
   "cell_type": "code",
   "execution_count": 86,
   "metadata": {
    "collapsed": true
   },
   "outputs": [],
   "source": [
    "def compute_error(n,order,n_mode):\n",
    "    delta = L/n\n",
    "    M_e,K_e = Elementary_matrices(order, delta)\n",
    "    nb_dof=(n+1)+n*(order-1)\n",
    "    K =np.zeros((nb_dof,nb_dof))\n",
    "    M =np.zeros((nb_dof,nb_dof))\n",
    "    for ie in range(n): # loop on the elements\n",
    "        dof = slice(order*ie, order*ie+order+1) # indices of the local dofs\n",
    "        K[dof,dof] += K_e\n",
    "        M[dof,dof] += M_e\n",
    "    omega = np.sort(np.sqrt(eigs(K, n_mode, M,which='SM',return_eigenvectors=False)))\n",
    "    error = np.absolute(omega[-1]-n_mode+1) \n",
    "    return error\n"
   ]
  },
  {
   "cell_type": "code",
   "execution_count": 87,
   "metadata": {},
   "outputs": [
    {
     "data": {
      "text/plain": [
       "9.463980710222586e-10"
      ]
     },
     "execution_count": 87,
     "metadata": {},
     "output_type": "execute_result"
    }
   ],
   "source": [
    "n = 4\n",
    "order = 2\n",
    "compute_error(10,4,3)"
   ]
  },
  {
   "cell_type": "markdown",
   "metadata": {},
   "source": [
    "><div class=\"alert alert-block alert-info\">\n",
    "By using the following script. What can you say about the order of convergence of\n",
    "order elements. You can test on modes 3 and 7 for instance. What can we say, for higher modes, in the zone associated to coarse meshes ?"
   ]
  },
  {
   "cell_type": "code",
   "execution_count": 88,
   "metadata": {},
   "outputs": [
    {
     "data": {
      "image/png": "[encoded data removed]",
      "text/plain": [
       "<matplotlib.figure.Figure at 0x108ede0b8>"
      ]
     },
     "metadata": {},
     "output_type": "display_data"
    }
   ],
   "source": [
    "n_max = 10\n",
    "h=np.zeros(n_max)\n",
    "current_mode = 3\n",
    "tab_order=[2,3,4]\n",
    "eps=np.zeros((len(tab_order),n_max))\n",
    "for i_order in range(len(tab_order)): \n",
    "    for i_n in range(5,n_max):\n",
    "        h[i_n] = L/i_n \n",
    "        eps[i_order,i_n]=compute_error(i_n,tab_order[i_order],current_mode)\n",
    "plt.figure()\n",
    "for i_order in range(len(tab_order)):\n",
    "    plt.loglog(h,eps[i_order,:],label='Error order{}'.format(tab_order[i_order]))\n",
    "a = 1e-3\n",
    "p=4 \n",
    "plt.loglog(h,a*h**p,'m.-',label='$ah^p$') \n",
    "plt.xlabel('h') ; \n",
    "plt.ylabel('Error') \n",
    "plt.legend()\n",
    "plt.show()"
   ]
  },
  {
   "cell_type": "code",
   "execution_count": null,
   "metadata": {
    "collapsed": true
   },
   "outputs": [],
   "source": []
  }
 ],
 "metadata": {
  "anaconda-cloud": {},
  "kernelspec": {
   "display_name": "Python 3",
   "language": "python",
   "name": "python3"
  },
  "language_info": {
   "codemirror_mode": {
    "name": "ipython",
    "version": 3
   },
   "file_extension": ".py",
   "mimetype": "text/x-python",
   "name": "python",
   "nbconvert_exporter": "python",
   "pygments_lexer": "ipython3",
   "version": "3.6.5"
  }
 },
 "nbformat": 4,
 "nbformat_minor": 1
}
