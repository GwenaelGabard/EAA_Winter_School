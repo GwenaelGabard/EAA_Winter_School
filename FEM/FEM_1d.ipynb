{
 "cells": [
  {
   "cell_type": "markdown",
   "metadata": {},
   "source": [
    "# EAA Winter School in Computational Acoustics 2018\n",
    "\n",
    "## 1D Finite-Element tutorial\n",
    "\n",
    "### Preamble\n",
    "\n",
    "We begin by loading a number of standard modules such as `numpy` and `matplotlib`. We also adjust some default parameters of figures."
   ]
  },
  {
   "cell_type": "code",
   "execution_count": 115,
   "metadata": {},
   "outputs": [],
   "source": [
    "import numpy as np\n",
    "from numpy import exp, sqrt\n",
    "%matplotlib inline\n",
    "import matplotlib as mpl\n",
    "import matplotlib.pyplot as plt\n",
    "plt.rcParams[\"animation.html\"] = \"html5\"\n",
    "import matplotlib.animation\n",
    "mpl.rc('lines', linewidth=2)\n",
    "mpl.rc('font', size=14)\n",
    "mpl.rc('axes', linewidth=1.5, labelsize=14)\n",
    "mpl.rc('legend', fontsize=14)\n",
    "from scipy.linalg import eig\n",
    "from scipy.sparse.linalg import eigs"
   ]
  },
  {
   "cell_type": "markdown",
   "metadata": {},
   "source": [
    "### Definition of the problem\n",
    "\n",
    "We consider the 1D propagation in a tube. It is governed by the Helmholtz equation:\n",
    "$$\n",
    "p''(x)\n",
    "+ k^2 p(x)\n",
    "= 0 \\textrm{ in } \\Omega.\n",
    "$$\n",
    "where $p(x)$ is the acoustic pressure and $\\Omega=]-L;0[$ is the geometrical domain associated to the tube. At the boundary of the domain, several different conditions can be considered.\n",
    "\n",
    "The weak form associated to this problem is \n",
    "$$ \n",
    "\\forall q\\in V,\\quad \\Big[\n",
    "p'(x)q(x)\n",
    "\\Big]_{-L}^0 - \\displaystyle{\\int_{-L}^0} p'(x)q'(x)dx + k^2 \\displaystyle{\\int_{-L}^0} p(x)q(x)dx =0 \n",
    "$$\n",
    "\n"
   ]
  },
  {
   "cell_type": "markdown",
   "metadata": {},
   "source": [
    "### Computation of modes of the tube\n",
    "\n",
    "In a first time, we will compute the modes of the tube with closed ends on both sides. In that case, as $p'(-L)=p'(0)=0$, the bracket term of the weak form is zero. We will compute, by the Finite-Element Method the modes of the cavity. We know that analytically, in this case, the values possible values are discrete and given by:\n",
    "$$ k_n=\\dfrac{n\\pi}{L},\\quad n\\in\\mathbb{N}$$. So as to simplify the analysis, we will consider that the length of the tube is $L=\\pi$:"
   ]
  },
  {
   "cell_type": "code",
   "execution_count": 116,
   "metadata": {
    "collapsed": true
   },
   "outputs": [],
   "source": [
    "L=np.pi"
   ]
  },
  {
   "cell_type": "markdown",
   "metadata": {},
   "source": [
    "### Discretisation by a single linear element\n",
    "\n",
    "We will implement the FEM for a single linear element. On the whole domain (element), the pressure and the test functions are assumed to be linear:\n",
    "$$ p(x)=p_1\\Big(1-\\dfrac{x}{L}\\Big)+p_2\\dfrac{x}{L},\\quad q(x)=q_1\\Big(1-\\dfrac{x}{L}\\Big)+q_2\\dfrac{x}{L},$$\n",
    "where $p_1$ and $p_2$ (resp. $q_1$ and $q_2$) are the approximation of the pressure (resp. test function) in $x=-L$ and $x=0$. The weak form is then:\n",
    "\n",
    "$$ \n",
    "\\forall q_1,q_2\\in \\mathbb{R},\\quad \n",
    "\\{q_1,\\,q_2\\} \\Big(\n",
    "[\\boldsymbol{H}_e(\\delta)]-k^2[\\boldsymbol{Q}_e(\\delta)]\\Big)\\begin{Bmatrix}p_1\\\\p_2\n",
    "\\end{Bmatrix}\n",
    "=0 \n",
    "$$\n",
    "with:\n",
    "$$ [\\boldsymbol{H}_e(\\delta)]=\\dfrac{1}{\\delta}\\begin{bmatrix}1&-1\\\\-1&1\\end{bmatrix},\\quad [\\boldsymbol{Q}_e(\\delta)]=\\dfrac{\\delta}{6}\\begin{bmatrix}2&1\\\\1&2\\end{bmatrix}.$$\n"
   ]
  },
  {
   "cell_type": "code",
   "execution_count": 117,
   "metadata": {},
   "outputs": [],
   "source": [
    "def H_e(delta):\n",
    "    return (1/delta)*np.array([[1.,-1.],[-1.,1.]])\n",
    "def Q_e(delta):\n",
    "    return (delta/6.)*np.array([[2.,1.],[1.,2.]])"
   ]
  },
  {
   "cell_type": "markdown",
   "metadata": {},
   "source": [
    "$k$ are associated to the eigenvalues of the generalised eigenvalue problem:\n",
    "$$ [\\boldsymbol{H}_e(\\delta)]\\begin{Bmatrix}p_1\\\\p_2\n",
    "\\end{Bmatrix}=k^2[\\boldsymbol{Q}_e(\\delta)]\\begin{Bmatrix}p_1\\\\p_2\n",
    "\\end{Bmatrix}.$$"
   ]
  },
  {
   "cell_type": "code",
   "execution_count": 118,
   "metadata": {},
   "outputs": [
    {
     "name": "stdout",
     "output_type": "stream",
     "text": [
      "[0.        +0.j 1.10265779+0.j]\n"
     ]
    }
   ],
   "source": [
    "delta = L\n",
    "k = np.sqrt(eig( H_e(delta), Q_e(delta),left=False,right=False))\n",
    "print(k)"
   ]
  },
  {
   "cell_type": "markdown",
   "metadata": {},
   "source": [
    "We then obtain two eigenvalues. The first one is zero, explain why. The second is an approximation of $1$ as $L=\\pi$. What is the quality of the approximation ?"
   ]
  },
  {
   "cell_type": "markdown",
   "metadata": {},
   "source": [
    "### Discretisation by several linear elements:\n",
    "\n",
    "We will now consider $n$ linear elements. $\\Omega$ is divided in $n$ subdomains of length $\\delta=L/n$ on which a linear approximation is considered. The pressure at the $n+1$ nodes are respectively denoted by $p_1$ ... $p_n$ and the weak form is:\n",
    "$$ \n",
    "\\forall q_1,...,q_n\\in \\mathbb{R},\\quad \\displaystyle{\\sum_{k=1}^n}\n",
    "\\{q_k,\\,q_{k+1}\\} \\Big(\n",
    "[\\boldsymbol{H}_e(\\delta)]-k^2[\\boldsymbol{Q}_e(\\delta)]\\Big)\\begin{Bmatrix}p_k\\\\p_{k+1}\n",
    "\\end{Bmatrix}\n",
    "=0.$$\n",
    "\n",
    "\n",
    "What are, formally, the global matrices $[\\boldsymbol{H}]$ and $[\\boldsymbol{Q}]$ so that the weak form is rewritten:\n",
    "$$ \n",
    "\\forall q_1,...,q_n\\in \\mathbb{R},\\quad \n",
    "\\{q_1,\\,...,q_n\\} \\Big(\n",
    "[\\boldsymbol{H}]-k^2[\\boldsymbol{Q}]\\Big)\\begin{Bmatrix}p_1\\\\\\vdots \\\\p_n\n",
    "\\end{Bmatrix}\n",
    "=0.$$"
   ]
  },
  {
   "cell_type": "code",
   "execution_count": 119,
   "metadata": {},
   "outputs": [
    {
     "name": "stdout",
     "output_type": "stream",
     "text": [
      "[1.11926428e-08+0.j 1.02585908e+00+0.j]\n"
     ]
    }
   ],
   "source": [
    "n =4\n",
    "delta = L/n\n",
    "H =np.zeros((n+1,n+1))\n",
    "Q =np.zeros((n+1,n+1))\n",
    "\n",
    "for ie in range(n): # loop on the elements\n",
    "    dof = slice(ie, ie+2) # indices of the local dofs\n",
    "    H[dof,dof] += H_e(delta)\n",
    "    Q[dof,dof] += Q_e(delta)\n",
    "k = np.sort(np.sqrt(eigs(H, 2, Q,which='SM',return_eigenvectors=False)))\n",
    "print(k)    \n",
    "    "
   ]
  },
  {
   "cell_type": "markdown",
   "metadata": {},
   "source": [
    "How many elements do we need to have a precision of 1\\% ?"
   ]
  },
  {
   "cell_type": "markdown",
   "metadata": {},
   "source": [
    "### Discretisation by a single quadratic element\n",
    "\n",
    "We will now consider quadratic elements and will consider the case of a single element of length $\\delta=L$. On this element, the pressure is approximated by a second order function:\n",
    "$$ p(x)=p_1\\Big(\\dfrac{(x-L/2)(x-L)}{L^2/2}\\Big)+p_2\\Big(-\\dfrac{x(x-L)}{L^2/2}\\Big)+p_3\\Big(\\dfrac{(x)(x-L/2)}{L^2/2}\\Big), $$\n",
    "where $p_1$, $p_2$ and $p_3$ are in that case the approximation of the pressure in $x=0$, $x=L/2$ and $x=L$. A similar interpolation is considered for the test-function.\n",
    "\n",
    "Plot on a paper or in the notebook the three shape functions.\n",
    "\n",
    "The weak form is:\n",
    "\n",
    "$$ \n",
    "\\forall q_1,q_2,q_3\\in \\mathbb{R},\\quad \n",
    "\\{q_1,\\,q_2,q_3\\} \\Big(\n",
    "[\\boldsymbol{H}_e'(\\delta)]-k^2[\\boldsymbol{Q}_e'(\\delta)]\\Big)\\begin{Bmatrix}p_1\\\\p_2\\\\p_3\n",
    "\\end{Bmatrix}\n",
    "=0 \n",
    "$$\n",
    "with:\n",
    "$$ [\\boldsymbol{H}_e'(\\delta)]=\\dfrac{1}{3\\delta}\\begin{bmatrix}7&-8&1\\\\-8&16&-8\\\\1&-8&7\\end{bmatrix},\\quad [\\boldsymbol{Q}_e'(\\delta)]=\\dfrac{\\delta}{30}\\begin{bmatrix}\n",
    "4& 2& -1 \\\\2 &16& 2\\\\-1& 2 &4\n",
    "\\end{bmatrix}.$$\n",
    " "
   ]
  },
  {
   "cell_type": "code",
   "execution_count": 120,
   "metadata": {
    "collapsed": true
   },
   "outputs": [],
   "source": [
    "def H_e_quad(delta):\n",
    "    return (1/(3*delta))*np.array([[7.,-8.,1],[-8.,16.,-8],[1.,-8.,7]])\n",
    "def Q_e_quad(delta):\n",
    "    return (delta/30.)*np.array([[4.,2.,-1],[2.,16.,2],[-1,2,4]])"
   ]
  },
  {
   "cell_type": "code",
   "execution_count": 121,
   "metadata": {},
   "outputs": [
    {
     "name": "stdout",
     "output_type": "stream",
     "text": [
      "[2.46561778e+00+0.j 1.10265779e+00+0.j 9.12275720e-09+0.j]\n"
     ]
    }
   ],
   "source": [
    "delta = L\n",
    "k = np.sqrt(eig( H_e_quad(delta), Q_e_quad(delta),left=False,right=False))\n",
    "print(k)"
   ]
  },
  {
   "cell_type": "code",
   "execution_count": 122,
   "metadata": {},
   "outputs": [
    {
     "name": "stdout",
     "output_type": "stream",
     "text": [
      "[4.84655651e-09+0.j 1.00375412e+00+0.j]\n"
     ]
    }
   ],
   "source": [
    "n =2\n",
    "delta = L/n\n",
    "H =np.zeros((2*n+1,2*n+1))\n",
    "Q =np.zeros((2*n+1,2*n+1))\n",
    "\n",
    "for ie in range(n): # loop on the elements\n",
    "    dof = slice(2*ie, 2*ie+3) # indices of the local dofs\n",
    "    H[dof,dof] += H_e_quad(delta)\n",
    "    Q[dof,dof] += Q_e_quad(delta)\n",
    "k = np.sort(np.sqrt(eigs(H, 2, Q,which='SM',return_eigenvectors=False)))\n",
    "print(k)    \n",
    "    "
   ]
  },
  {
   "cell_type": "markdown",
   "metadata": {},
   "source": [
    "### Convergence analysis\n",
    "\n",
    "We will now consider the convergence of the method which is the quality of the approximation as a function of the number of degrees of freedom. What is the error for linear and quadratic elements for a number of nodes equal to:\n",
    "1. n=11\n",
    "2. n=101\n",
    "3. n=1001"
   ]
  },
  {
   "cell_type": "code",
   "execution_count": 123,
   "metadata": {},
   "outputs": [
    {
     "name": "stdout",
     "output_type": "stream",
     "text": [
      "(0.004117250605596645+0j)\n",
      "(0.00010605175748512607+0j)\n",
      "(0.0010283984338197438+0j)\n",
      "(6.729780225311899e-06+0j)\n",
      "(0.0002570407277571185+0j)\n",
      "(4.2223687901632445e-07+0j)\n"
     ]
    }
   ],
   "source": [
    "def erreur_lin(n):\n",
    "    delta = L/n\n",
    "    H =np.zeros((n+1,n+1))\n",
    "    Q =np.zeros((n+1,n+1))\n",
    "    for ie in range(n): # loop on the elements\n",
    "        dof = slice(ie, ie+2) # indices of the local dofs\n",
    "        H[dof,dof] += H_e(delta)\n",
    "        Q[dof,dof] += Q_e(delta)\n",
    "    k = np.sort(np.sqrt(eigs(H, 2, Q,which='SM',return_eigenvectors=False)))    \n",
    "    return(k[1]-1.0)\n",
    "    \n",
    "def erreur_quad(n):    \n",
    "    delta = L/n\n",
    "    H =np.zeros((2*n+1,2*n+1))\n",
    "    Q =np.zeros((2*n+1,2*n+1))\n",
    "\n",
    "    for ie in range(n): # loop on the elements\n",
    "        dof = slice(2*ie, 2*ie+3) # indices of the local dofs\n",
    "        H[dof,dof] += H_e_quad(delta)\n",
    "        Q[dof,dof] += Q_e_quad(delta)\n",
    "    k = np.sort(np.sqrt(eigs(H, 2, Q,which='SM',return_eigenvectors=False)))\n",
    "    return(k[1]-1.0)\n",
    "    \n",
    "print(erreur_lin(10))\n",
    "print(erreur_quad(5))\n",
    "print(erreur_lin(20))\n",
    "print(erreur_quad(10))\n",
    "print(erreur_lin(40))\n",
    "print(erreur_quad(20)) "
   ]
  },
  {
   "cell_type": "markdown",
   "metadata": {},
   "source": [
    "Based on this quantitative observation. What can we say the error when the number of degrees of freedom is multiplied by 2 for linear and quadratic elements"
   ]
  },
  {
   "cell_type": "code",
   "execution_count": 125,
   "metadata": {},
   "outputs": [
    {
     "name": "stdout",
     "output_type": "stream",
     "text": [
      "(4.003555888678157+0j)\n",
      "(15.75857651220608+0j)\n",
      "(4.000916285246023+0j)\n",
      "(15.938396588410741+0j)\n"
     ]
    }
   ],
   "source": [
    "print(erreur_lin(10)/erreur_lin(20))\n",
    "print(erreur_quad(5)/erreur_quad(10))\n",
    "print(erreur_lin(20)/erreur_lin(40))\n",
    "print(erreur_quad(10)/erreur_quad(20))"
   ]
  },
  {
   "cell_type": "markdown",
   "metadata": {},
   "source": [
    "If you want to go further, you can plot the convergence curve (ie. the error on the )"
   ]
  },
  {
   "cell_type": "code",
   "execution_count": null,
   "metadata": {
    "collapsed": true
   },
   "outputs": [],
   "source": []
  }
 ],
 "metadata": {
  "anaconda-cloud": {},
  "kernelspec": {
   "display_name": "Python 3",
   "language": "python",
   "name": "python3"
  },
  "language_info": {
   "codemirror_mode": {
    "name": "ipython",
    "version": 3
   },
   "file_extension": ".py",
   "mimetype": "text/x-python",
   "name": "python",
   "nbconvert_exporter": "python",
   "pygments_lexer": "ipython3",
   "version": "3.6.5"
  }
 },
 "nbformat": 4,
 "nbformat_minor": 1
}
